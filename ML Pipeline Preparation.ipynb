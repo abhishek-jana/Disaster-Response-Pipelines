{
 "cells": [
  {
   "cell_type": "markdown",
   "metadata": {},
   "source": [
    "# ML Pipeline Preparation\n",
    "Follow the instructions below to help you create your ML pipeline.\n",
    "### 1. Import libraries and load data from database.\n",
    "- Import Python libraries\n",
    "- Load dataset from database with [`read_sql_table`](https://pandas.pydata.org/pandas-docs/stable/generated/pandas.read_sql_table.html)\n",
    "- Define feature and target variables X and Y"
   ]
  },
  {
   "cell_type": "code",
   "execution_count": 1,
   "metadata": {},
   "outputs": [
    {
     "name": "stderr",
     "output_type": "stream",
     "text": [
      "[nltk_data] Downloading package punkt to /home/ajana/nltk_data...\n",
      "[nltk_data]   Package punkt is already up-to-date!\n",
      "[nltk_data] Downloading package wordnet to /home/ajana/nltk_data...\n",
      "[nltk_data]   Package wordnet is already up-to-date!\n",
      "[nltk_data] Downloading package averaged_perceptron_tagger to\n",
      "[nltk_data]     /home/ajana/nltk_data...\n",
      "[nltk_data]   Package averaged_perceptron_tagger is already up-to-\n",
      "[nltk_data]       date!\n",
      "[nltk_data] Downloading package stopwords to /home/ajana/nltk_data...\n",
      "[nltk_data]   Package stopwords is already up-to-date!\n"
     ]
    }
   ],
   "source": [
    "#https://scikit-learn.org/stable/auto_examples/classification/plot_classifier_comparison.html\n",
    "\n",
    "# import libraries\n",
    "import pandas as pd\n",
    "import numpy as np\n",
    "from sqlalchemy import create_engine\n",
    "\n",
    "import re\n",
    "import nltk\n",
    "nltk.download(['punkt', 'wordnet', 'averaged_perceptron_tagger','stopwords'])\n",
    "from nltk.tokenize import word_tokenize\n",
    "from nltk.corpus import stopwords\n",
    "from nltk.stem.wordnet import WordNetLemmatizer\n",
    "\n",
    "\n",
    "from sklearn.pipeline import Pipeline, FeatureUnion\n",
    "from sklearn.metrics import confusion_matrix\n",
    "from sklearn.model_selection import train_test_split\n",
    "from sklearn.ensemble import RandomForestClassifier\n",
    "from sklearn.multioutput import MultiOutputClassifier\n",
    "from sklearn.model_selection import GridSearchCV\n",
    "from sklearn.svm import SVC\n",
    "from xgboost import XGBClassifier\n",
    "from sklearn.base import BaseEstimator, TransformerMixin\n",
    "from sklearn.feature_extraction.text import CountVectorizer, TfidfTransformer\n",
    "\n",
    "from sklearn.metrics import classification_report"
   ]
  },
  {
   "cell_type": "code",
   "execution_count": 3,
   "metadata": {},
   "outputs": [
    {
     "data": {
      "text/plain": [
       "array(['Is the Hurricane over or is it not over',\n",
       "       'Looking for someone but no name',\n",
       "       'UN reports Leogane 80-90 destroyed. Only Hospital St. Croix functioning. Needs supplies desperately.',\n",
       "       'says: west side of Haiti, rest of the country today and tonight',\n",
       "       'Information about the National Palace-',\n",
       "       'Storm at sacred heart of jesus',\n",
       "       'Please, we need tents and water. We are in Silo, Thank you!',\n",
       "       'I would like to receive the messages, thank you',\n",
       "       'I am in Croix-des-Bouquets. We have health issues. They ( workers ) are in Santo 15. ( an area in Croix-des-Bouquets )'],\n",
       "      dtype=object)"
      ]
     },
     "execution_count": 3,
     "metadata": {},
     "output_type": "execute_result"
    }
   ],
   "source": [
    "# load data from database\n",
    "engine = create_engine('sqlite:///data/DisasterResponse.db')\n",
    "df = pd.read_sql_table('DisasterResponseTable',engine)\n",
    "X = df.message.values\n",
    "Y = df.iloc[:,4:]\n",
    "X[1:10]"
   ]
  },
  {
   "cell_type": "markdown",
   "metadata": {},
   "source": [
    "### 2. Write a tokenization function to process your text data"
   ]
  },
  {
   "cell_type": "code",
   "execution_count": 4,
   "metadata": {},
   "outputs": [],
   "source": [
    "url_regex = 'http[s]?://(?:[a-zA-Z]|[0-9]|[$-_@.&+]|[!*\\(\\),]|(?:%[0-9a-fA-F][0-9a-fA-F]))+'\n",
    "stop_words = stopwords.words(\"english\")\n",
    "        \n",
    "# def tokenize(text):\n",
    "#     detected_urls = re.findall(url_regex, text)\n",
    "#     for url in detected_urls:\n",
    "#         text = text.replace(url, \"urlplaceholder\")\n",
    "\n",
    "#     tokens = word_tokenize(text)\n",
    "#     lemmatizer = WordNetLemmatizer()\n",
    "#     # lemmatize andremove stop words\n",
    "#     tokens = [lemmatizer.lemmatize(word) for word in tokens if word not in stop_words]\n",
    "\n",
    "#     return tokens\n",
    "\n",
    "def tokenize(text):\n",
    "    detected_urls = re.findall(url_regex, text)\n",
    "    for url in detected_urls:\n",
    "        text = text.replace(url, \"urlplaceholder\")\n",
    "\n",
    "    tokens = word_tokenize(text)\n",
    "    lemmatizer = WordNetLemmatizer()\n",
    "\n",
    "    clean_tokens = []\n",
    "    for tok in tokens:\n",
    "        clean_tok = lemmatizer.lemmatize(tok).lower().strip()\n",
    "        clean_tokens.append(clean_tok)\n",
    "\n",
    "    return clean_tokens\n"
   ]
  },
  {
   "cell_type": "code",
   "execution_count": 5,
   "metadata": {},
   "outputs": [
    {
     "data": {
      "text/plain": [
       "['weather',\n",
       " 'update',\n",
       " '-',\n",
       " 'a',\n",
       " 'cold',\n",
       " 'front',\n",
       " 'from',\n",
       " 'cuba',\n",
       " 'that',\n",
       " 'could',\n",
       " 'pas',\n",
       " 'over',\n",
       " 'haiti']"
      ]
     },
     "execution_count": 5,
     "metadata": {},
     "output_type": "execute_result"
    }
   ],
   "source": [
    "tokenize(X[0])"
   ]
  },
  {
   "cell_type": "code",
   "execution_count": 6,
   "metadata": {},
   "outputs": [],
   "source": [
    "\n",
    "def display_results(y_test, y_pred):\n",
    "    #labels = np.unique(y_pred)\n",
    "    #confusion_mat = confusion_matrix(y_test, y_pred, labels=labels)\n",
    "    accuracy = (y_pred == y_test).mean()\n",
    "\n",
    "    #print(\"Labels:\", labels)\n",
    "    #print(\"Confusion Matrix:\\n\", confusion_mat)\n",
    "    print(\"Accuracy:\", accuracy)"
   ]
  },
  {
   "cell_type": "markdown",
   "metadata": {},
   "source": [
    "### 3. Build a machine learning pipeline\n",
    "This machine pipeline should take in the `message` column as input and output classification results on the other 36 categories in the dataset. You may find the [MultiOutputClassifier](http://scikit-learn.org/stable/modules/generated/sklearn.multioutput.MultiOutputClassifier.html) helpful for predicting multiple target variables."
   ]
  },
  {
   "cell_type": "code",
   "execution_count": 9,
   "metadata": {},
   "outputs": [],
   "source": [
    "pipeline = Pipeline([\n",
    "        ('vect', CountVectorizer(tokenizer=tokenize)),\n",
    "        ('tfidf', TfidfTransformer()),\n",
    "        ('clf', MultiOutputClassifier(RandomForestClassifier(n_estimators = 100)))\n",
    "    ])"
   ]
  },
  {
   "cell_type": "code",
   "execution_count": 10,
   "metadata": {},
   "outputs": [],
   "source": [
    "xgb_pipeline = Pipeline([\n",
    "        ('vect', CountVectorizer(tokenizer=tokenize)),\n",
    "        ('tfidf', TfidfTransformer()),\n",
    "        ('clf', MultiOutputClassifier(XGBClassifier(objective='binary:logistic')))\n",
    "    ])"
   ]
  },
  {
   "cell_type": "markdown",
   "metadata": {},
   "source": [
    "### 4. Train pipeline\n",
    "- Split data into train and test sets\n",
    "- Train pipeline"
   ]
  },
  {
   "cell_type": "code",
   "execution_count": 7,
   "metadata": {},
   "outputs": [],
   "source": [
    "\n",
    "X_train, X_test, y_train, y_test = train_test_split(X, Y)"
   ]
  },
  {
   "cell_type": "markdown",
   "metadata": {},
   "source": [
    "### 5. Test your model\n",
    "Report the f1 score, precision and recall for each output category of the dataset. You can do this by iterating through the columns and calling sklearn's `classification_report` on each."
   ]
  },
  {
   "cell_type": "code",
   "execution_count": 12,
   "metadata": {},
   "outputs": [
    {
     "name": "stdout",
     "output_type": "stream",
     "text": [
      "Accuracy: related                   0.810051\n",
      "request                   0.897034\n",
      "offer                     0.994467\n",
      "aid_related               0.771016\n",
      "medical_help              0.919010\n",
      "medical_products          0.951130\n",
      "search_and_rescue         0.971723\n",
      "security                  0.982941\n",
      "military                  0.968649\n",
      "water                     0.953588\n",
      "food                      0.925158\n",
      "shelter                   0.924543\n",
      "clothing                  0.984017\n",
      "money                     0.976026\n",
      "missing_people            0.988167\n",
      "refugees                  0.963731\n",
      "death                     0.957738\n",
      "other_aid                 0.865990\n",
      "infrastructure_related    0.934839\n",
      "transport                 0.954511\n",
      "buildings                 0.949900\n",
      "electricity               0.980636\n",
      "tools                     0.994467\n",
      "hospitals                 0.987706\n",
      "shops                     0.994621\n",
      "aid_centers               0.988013\n",
      "other_infrastructure      0.957277\n",
      "weather_related           0.866452\n",
      "floods                    0.944829\n",
      "storm                     0.939604\n",
      "fire                      0.989857\n",
      "earthquake                0.966037\n",
      "cold                      0.980483\n",
      "other_weather             0.946365\n",
      "direct_report             0.864146\n",
      "dtype: float64\n",
      "CPU times: user 4min 48s, sys: 272 ms, total: 4min 48s\n",
      "Wall time: 4min 49s\n"
     ]
    }
   ],
   "source": [
    "%%time\n",
    "\n",
    "# train classifier\n",
    "pipeline.fit(X_train, y_train)\n",
    "\n",
    "# predict on test data\n",
    "y_pred = pipeline.predict(X_test)\n",
    "\n",
    "# display results\n",
    "display_results(y_test, y_pred)"
   ]
  },
  {
   "cell_type": "code",
   "execution_count": 15,
   "metadata": {},
   "outputs": [
    {
     "name": "stdout",
     "output_type": "stream",
     "text": [
      "                        precision    recall  f1-score   support\n",
      "\n",
      "               related       0.82      0.97      0.89      5011\n",
      "               request       0.92      0.43      0.58      1099\n",
      "                 offer       0.00      0.00      0.00        36\n",
      "           aid_related       0.79      0.62      0.70      2741\n",
      "          medical_help       0.74      0.05      0.10       546\n",
      "      medical_products       0.71      0.07      0.13       332\n",
      "     search_and_rescue       0.61      0.06      0.11       188\n",
      "              security       0.00      0.00      0.00       111\n",
      "              military       0.67      0.03      0.06       207\n",
      "                 water       0.88      0.34      0.49       425\n",
      "                  food       0.86      0.39      0.54       730\n",
      "               shelter       0.90      0.21      0.35       606\n",
      "              clothing       0.60      0.03      0.05       105\n",
      "                 money       1.00      0.02      0.04       159\n",
      "        missing_people       1.00      0.01      0.03        78\n",
      "              refugees       1.00      0.01      0.02       239\n",
      "                 death       0.85      0.12      0.20       304\n",
      "             other_aid       0.86      0.02      0.04       888\n",
      "infrastructure_related       0.00      0.00      0.00       422\n",
      "             transport       0.87      0.08      0.15       318\n",
      "             buildings       0.86      0.05      0.10       341\n",
      "           electricity       1.00      0.04      0.07       131\n",
      "                 tools       0.00      0.00      0.00        36\n",
      "             hospitals       0.00      0.00      0.00        80\n",
      "                 shops       0.00      0.00      0.00        35\n",
      "           aid_centers       0.00      0.00      0.00        78\n",
      "  other_infrastructure       0.00      0.00      0.00       276\n",
      "       weather_related       0.87      0.62      0.73      1859\n",
      "                floods       0.91      0.37      0.52       538\n",
      "                 storm       0.78      0.47      0.59       593\n",
      "                  fire       1.00      0.01      0.03        67\n",
      "            earthquake       0.88      0.76      0.82       651\n",
      "                  cold       0.67      0.05      0.09       130\n",
      "         other_weather       0.50      0.01      0.02       349\n",
      "         direct_report       0.85      0.35      0.50      1245\n",
      "\n",
      "             micro avg       0.83      0.49      0.62     20954\n",
      "             macro avg       0.64      0.18      0.23     20954\n",
      "          weighted avg       0.79      0.49      0.54     20954\n",
      "           samples avg       0.70      0.47      0.51     20954\n",
      "\n"
     ]
    }
   ],
   "source": [
    "print(classification_report(y_test.values, y_pred, target_names=Y.columns.values))"
   ]
  },
  {
   "cell_type": "code",
   "execution_count": 16,
   "metadata": {},
   "outputs": [
    {
     "name": "stdout",
     "output_type": "stream",
     "text": [
      "Accuracy: related                   0.820501\n",
      "request                   0.901798\n",
      "offer                     0.994314\n",
      "aid_related               0.777009\n",
      "medical_help              0.922545\n",
      "medical_products          0.954972\n",
      "search_and_rescue         0.971569\n",
      "security                  0.982480\n",
      "military                  0.972030\n",
      "water                     0.966805\n",
      "food                      0.950515\n",
      "shelter                   0.948517\n",
      "clothing                  0.989089\n",
      "money                     0.975718\n",
      "missing_people            0.988474\n",
      "refugees                  0.967881\n",
      "death                     0.969418\n",
      "other_aid                 0.868449\n",
      "infrastructure_related    0.934378\n",
      "transport                 0.957430\n",
      "buildings                 0.958660\n",
      "electricity               0.982634\n",
      "tools                     0.994467\n",
      "hospitals                 0.988167\n",
      "shops                     0.994467\n",
      "aid_centers               0.988474\n",
      "other_infrastructure      0.955586\n",
      "weather_related           0.879668\n",
      "floods                    0.955279\n",
      "storm                     0.945597\n",
      "fire                      0.990933\n",
      "earthquake                0.967420\n",
      "cold                      0.986015\n",
      "other_weather             0.947441\n",
      "direct_report             0.871830\n",
      "dtype: float64\n",
      "CPU times: user 18min 9s, sys: 21.7 s, total: 18min 31s\n",
      "Wall time: 1min 42s\n"
     ]
    }
   ],
   "source": [
    "%%time\n",
    "\n",
    "# train classifier\n",
    "xgb_pipeline.fit(X_train, y_train)\n",
    "\n",
    "# predict on test data\n",
    "y_pred_xgb = xgb_pipeline.predict(X_test)\n",
    "\n",
    "# display results\n",
    "display_results(y_test, y_pred_xgb)"
   ]
  },
  {
   "cell_type": "code",
   "execution_count": 17,
   "metadata": {},
   "outputs": [
    {
     "name": "stdout",
     "output_type": "stream",
     "text": [
      "                        precision    recall  f1-score   support\n",
      "\n",
      "               related       0.85      0.93      0.89      5011\n",
      "               request       0.78      0.58      0.67      1099\n",
      "                 offer       0.00      0.00      0.00        36\n",
      "           aid_related       0.78      0.66      0.71      2741\n",
      "          medical_help       0.58      0.27      0.37       546\n",
      "      medical_products       0.63      0.28      0.39       332\n",
      "     search_and_rescue       0.53      0.16      0.25       188\n",
      "              security       0.33      0.03      0.05       111\n",
      "              military       0.63      0.29      0.40       207\n",
      "                 water       0.79      0.66      0.72       425\n",
      "                  food       0.80      0.75      0.77       730\n",
      "               shelter       0.79      0.60      0.69       606\n",
      "              clothing       0.79      0.44      0.56       105\n",
      "                 money       0.51      0.23      0.31       159\n",
      "        missing_people       0.57      0.15      0.24        78\n",
      "              refugees       0.68      0.23      0.35       239\n",
      "                 death       0.74      0.53      0.62       304\n",
      "             other_aid       0.56      0.18      0.27       888\n",
      "infrastructure_related       0.46      0.07      0.12       422\n",
      "             transport       0.69      0.24      0.35       318\n",
      "             buildings       0.69      0.39      0.50       341\n",
      "           electricity       0.64      0.32      0.43       131\n",
      "                 tools       0.00      0.00      0.00        36\n",
      "             hospitals       0.71      0.06      0.11        80\n",
      "                 shops       0.00      0.00      0.00        35\n",
      "           aid_centers       0.80      0.05      0.10        78\n",
      "  other_infrastructure       0.32      0.04      0.08       276\n",
      "       weather_related       0.85      0.71      0.77      1859\n",
      "                floods       0.87      0.54      0.67       538\n",
      "                 storm       0.72      0.65      0.69       593\n",
      "                  fire       0.64      0.27      0.38        67\n",
      "            earthquake       0.87      0.80      0.83       651\n",
      "                  cold       0.73      0.48      0.58       130\n",
      "         other_weather       0.54      0.13      0.21       349\n",
      "         direct_report       0.75      0.50      0.60      1245\n",
      "\n",
      "             micro avg       0.79      0.61      0.69     20954\n",
      "             macro avg       0.62      0.35      0.42     20954\n",
      "          weighted avg       0.75      0.61      0.65     20954\n",
      "           samples avg       0.64      0.52      0.53     20954\n",
      "\n"
     ]
    },
    {
     "name": "stderr",
     "output_type": "stream",
     "text": [
      "/home/ajana/anaconda3/lib/python3.7/site-packages/sklearn/metrics/classification.py:1437: UndefinedMetricWarning: Precision and F-score are ill-defined and being set to 0.0 in labels with no predicted samples.\n",
      "  'precision', 'predicted', average, warn_for)\n",
      "/home/ajana/anaconda3/lib/python3.7/site-packages/sklearn/metrics/classification.py:1437: UndefinedMetricWarning: Precision and F-score are ill-defined and being set to 0.0 in samples with no predicted labels.\n",
      "  'precision', 'predicted', average, warn_for)\n",
      "/home/ajana/anaconda3/lib/python3.7/site-packages/sklearn/metrics/classification.py:1439: UndefinedMetricWarning: Recall and F-score are ill-defined and being set to 0.0 in samples with no true labels.\n",
      "  'recall', 'true', average, warn_for)\n"
     ]
    }
   ],
   "source": [
    "print(classification_report(y_test.values, y_pred_xgb, target_names=Y.columns.values))"
   ]
  },
  {
   "cell_type": "code",
   "execution_count": null,
   "metadata": {},
   "outputs": [],
   "source": []
  },
  {
   "cell_type": "markdown",
   "metadata": {},
   "source": [
    "From the results, two things can be inferred, there is something wrong with **related** column and **child_alone** column."
   ]
  },
  {
   "cell_type": "code",
   "execution_count": 11,
   "metadata": {},
   "outputs": [
    {
     "data": {
      "text/plain": [
       "1    19906\n",
       "0     6122\n",
       "Name: related, dtype: int64"
      ]
     },
     "execution_count": 11,
     "metadata": {},
     "output_type": "execute_result"
    }
   ],
   "source": [
    "# investigate \"related\" and \"child-alone\" column\n",
    "Y[\"related\"].value_counts()"
   ]
  },
  {
   "cell_type": "code",
   "execution_count": 12,
   "metadata": {},
   "outputs": [
    {
     "data": {
      "text/plain": [
       "Index(['related', 'request', 'offer', 'aid_related', 'medical_help',\n",
       "       'medical_products', 'search_and_rescue', 'security', 'military',\n",
       "       'water', 'food', 'shelter', 'clothing', 'money', 'missing_people',\n",
       "       'refugees', 'death', 'other_aid', 'infrastructure_related', 'transport',\n",
       "       'buildings', 'electricity', 'tools', 'hospitals', 'shops',\n",
       "       'aid_centers', 'other_infrastructure', 'weather_related', 'floods',\n",
       "       'storm', 'fire', 'earthquake', 'cold', 'other_weather',\n",
       "       'direct_report'],\n",
       "      dtype='object')"
      ]
     },
     "execution_count": 12,
     "metadata": {},
     "output_type": "execute_result"
    }
   ],
   "source": [
    "Y.columns"
   ]
  },
  {
   "cell_type": "markdown",
   "metadata": {},
   "source": [
    "### 8. Try improving your model further. Here are a few ideas:\n",
    "* try other machine learning algorithms\n",
    "* add other features besides the TF-IDF"
   ]
  },
  {
   "cell_type": "markdown",
   "metadata": {},
   "source": [
    "Few importatnt words like **water, blocked road, medical supplies** are used during a disaster response. So we can create a Custom Transformers like **StartingNounExtractor**, **StartingVerbExtractor** and, **LengthExtractor** and add them to our pipeline.\n"
   ]
  },
  {
   "cell_type": "code",
   "execution_count": 8,
   "metadata": {},
   "outputs": [],
   "source": [
    "class StartingVerbExtractor(BaseEstimator, TransformerMixin):\n",
    "\n",
    "    def starting_verb(self, text):\n",
    "        sentence_list = nltk.sent_tokenize(text)\n",
    "        for sentence in sentence_list:\n",
    "            pos_tags = nltk.pos_tag(tokenize(sentence))\n",
    "            first_word, first_tag = pos_tags[0]\n",
    "            if first_tag in ['VB', 'VBP'] or first_word == 'RT':\n",
    "                return True\n",
    "        return False\n",
    "\n",
    "    def fit(self, X, y=None):\n",
    "        return self\n",
    "\n",
    "    def transform(self, X):\n",
    "        X_tagged = pd.Series(X).apply(self.starting_verb)\n",
    "        return pd.DataFrame(X_tagged)\n"
   ]
  },
  {
   "cell_type": "code",
   "execution_count": 9,
   "metadata": {},
   "outputs": [],
   "source": [
    "# https://www.guru99.com/pos-tagging-chunking-nltk.html\n",
    "\n",
    "class StartingNounExtractor(BaseEstimator, TransformerMixin):\n",
    "\n",
    "    def starting_noun(self, text):\n",
    "        sentence_list = nltk.sent_tokenize(text)\n",
    "        for sentence in sentence_list:\n",
    "            pos_tags = nltk.pos_tag(tokenize(sentence))\n",
    "            first_word, first_tag = pos_tags[0]\n",
    "            if first_tag in ['NN', 'NNS', 'NNP', 'NNPS'] or first_word == 'RT':\n",
    "                return True\n",
    "        return False\n",
    "\n",
    "    def fit(self, X, y=None):\n",
    "        return self\n",
    "\n",
    "    def transform(self, X):\n",
    "        X_tagged = pd.Series(X).apply(self.starting_noun)\n",
    "        return pd.DataFrame(X_tagged)"
   ]
  },
  {
   "cell_type": "code",
   "execution_count": 25,
   "metadata": {},
   "outputs": [],
   "source": [
    "# Not useful in this case\n",
    "class LengthExtractor(BaseEstimator, TransformerMixin): \n",
    "    \n",
    "    def fit(self, X, y=None):\n",
    "        return self\n",
    "\n",
    "    def transform(self, X):\n",
    "        return  pd.Series(X).apply(len).values.reshape(-1,1)"
   ]
  },
  {
   "cell_type": "markdown",
   "metadata": {},
   "source": [
    "### Using FeatureUnion"
   ]
  },
  {
   "cell_type": "code",
   "execution_count": 31,
   "metadata": {},
   "outputs": [],
   "source": [
    "rand_pipeline = Pipeline([\n",
    "        ('features', FeatureUnion([\n",
    "\n",
    "            ('text_pipeline', Pipeline([\n",
    "                ('vect', CountVectorizer(tokenizer=tokenize)),\n",
    "                ('tfidf', TfidfTransformer())\n",
    "            ])),\n",
    "            #('length', LengthExtractor()),\n",
    "            #('starting_noun', StartingNounExtractor()),\n",
    "            ('starting_verb', StartingVerbExtractor())\n",
    "        ])),\n",
    "\n",
    "        ('clf', MultiOutputClassifier(RandomForestClassifier(n_estimators = 100)))\n",
    "    ])"
   ]
  },
  {
   "cell_type": "code",
   "execution_count": 10,
   "metadata": {},
   "outputs": [],
   "source": [
    "\n",
    "boost_pipeline = Pipeline([\n",
    "        ('features', FeatureUnion([\n",
    "\n",
    "            ('text_pipeline', Pipeline([\n",
    "                ('vect', CountVectorizer(tokenizer=tokenize)),\n",
    "                ('tfidf', TfidfTransformer())\n",
    "            ])),\n",
    "            #('length', LengthExtractor()),\n",
    "            ('starting_noun', StartingNounExtractor()),\n",
    "            ('starting_verb', StartingVerbExtractor())\n",
    "        ])),\n",
    "\n",
    "        ('xgbclassifier', MultiOutputClassifier(XGBClassifier(objective='binary:logistic',random_state = 42)))\n",
    "    ])"
   ]
  },
  {
   "cell_type": "code",
   "execution_count": 32,
   "metadata": {},
   "outputs": [
    {
     "name": "stdout",
     "output_type": "stream",
     "text": [
      "Accuracy: related                   0.810973\n",
      "request                   0.891963\n",
      "offer                     0.994467\n",
      "aid_related               0.769325\n",
      "medical_help              0.918549\n",
      "medical_products          0.950822\n",
      "search_and_rescue         0.971723\n",
      "security                  0.982941\n",
      "military                  0.968495\n",
      "water                     0.950054\n",
      "food                      0.928538\n",
      "shelter                   0.926080\n",
      "clothing                  0.984478\n",
      "money                     0.976026\n",
      "missing_people            0.988167\n",
      "refugees                  0.963270\n",
      "death                     0.957584\n",
      "other_aid                 0.864915\n",
      "infrastructure_related    0.934993\n",
      "transport                 0.953435\n",
      "buildings                 0.950515\n",
      "electricity               0.980483\n",
      "tools                     0.994467\n",
      "hospitals                 0.987706\n",
      "shops                     0.994621\n",
      "aid_centers               0.988013\n",
      "other_infrastructure      0.957277\n",
      "weather_related           0.867066\n",
      "floods                    0.949285\n",
      "storm                     0.937145\n",
      "fire                      0.989703\n",
      "earthquake                0.965114\n",
      "cold                      0.981097\n",
      "other_weather             0.946519\n",
      "direct_report             0.863071\n",
      "dtype: float64\n",
      "CPU times: user 5min 8s, sys: 218 ms, total: 5min 8s\n",
      "Wall time: 5min 8s\n"
     ]
    }
   ],
   "source": [
    "%%time\n",
    "\n",
    "# train classifier\n",
    "rand_pipeline.fit(X_train, y_train)\n",
    "\n",
    "#predict on test data\n",
    "y_pred_rand = rand_pipeline.predict(X_test)\n",
    "\n",
    "#display results\n",
    "display_results(y_test, y_pred_rand)"
   ]
  },
  {
   "cell_type": "code",
   "execution_count": 46,
   "metadata": {},
   "outputs": [
    {
     "name": "stdout",
     "output_type": "stream",
     "text": [
      "Accuracy: related                   0.822499\n",
      "request                   0.901491\n",
      "offer                     0.994314\n",
      "aid_related               0.778393\n",
      "medical_help              0.923313\n",
      "medical_products          0.956047\n",
      "search_and_rescue         0.971569\n",
      "security                  0.982019\n",
      "military                  0.972491\n",
      "water                     0.965729\n",
      "food                      0.952666\n",
      "shelter                   0.948210\n",
      "clothing                  0.988781\n",
      "money                     0.976641\n",
      "missing_people            0.988935\n",
      "refugees                  0.967573\n",
      "death                     0.970954\n",
      "other_aid                 0.870140\n",
      "infrastructure_related    0.933764\n",
      "transport                 0.956969\n",
      "buildings                 0.958506\n",
      "electricity               0.982327\n",
      "tools                     0.994467\n",
      "hospitals                 0.987859\n",
      "shops                     0.994621\n",
      "aid_centers               0.988474\n",
      "other_infrastructure      0.954972\n",
      "weather_related           0.878746\n",
      "floods                    0.956662\n",
      "storm                     0.946519\n",
      "fire                      0.991548\n",
      "earthquake                0.967881\n",
      "cold                      0.985400\n",
      "other_weather             0.947749\n",
      "direct_report             0.871523\n",
      "dtype: float64\n",
      "CPU times: user 18min 41s, sys: 20.1 s, total: 19min 1s\n",
      "Wall time: 2min 28s\n"
     ]
    }
   ],
   "source": [
    "%%time\n",
    "\n",
    "# train classifier\n",
    "boost_pipeline.fit(X_train, y_train)\n",
    "\n",
    "#predict on test data\n",
    "y_pred_boost = boost_pipeline.predict(X_test)\n",
    "\n",
    "#display results\n",
    "display_results(y_test, y_pred_boost)"
   ]
  },
  {
   "cell_type": "code",
   "execution_count": null,
   "metadata": {},
   "outputs": [],
   "source": []
  },
  {
   "cell_type": "markdown",
   "metadata": {},
   "source": [
    "As we can see adding Custom Transformers like **StartingNounExtractor**, **StartingVerbExtractor** to our pipeline, improves the accuracy. Also, XGBoost classifier workes better than random forest. So we'll apply GridsearchCV on XGBoost.\n",
    "**LengthExtractor** degrades accuracy.\n"
   ]
  },
  {
   "cell_type": "markdown",
   "metadata": {},
   "source": [
    "### 6. Improve your model\n",
    "Use grid search to find better parameters. "
   ]
  },
  {
   "cell_type": "code",
   "execution_count": 11,
   "metadata": {},
   "outputs": [],
   "source": [
    "#REF : https://xgboost.readthedocs.io/en/latest/python/python_api.html\n",
    "# https://www.kaggle.com/tilii7/hyperparameter-grid-search-with-xgboost\n",
    "parameters = {\n",
    "#         'features__text_pipeline__vect__ngram_range': ((1, 1), (1, 2)),\n",
    "#         'features__text_pipeline__vect__max_df': (0.5, 0.75, 1.0),\n",
    "#         'features__text_pipeline__vect__max_features': (None, 5000, 10000),\n",
    "#         'features__text_pipeline__tfidf__use_idf': (True, False),\n",
    "#         'xgbclassifier__estimator__n_estimators': [50, 1000],\n",
    "        'xgbclassifier__estimator__learning_rate': [0.1, 0.5],\n",
    "#         'xgbclassifier__estimator__max_depth': [3,5],\n",
    "#         'xgbclassifier__estimator__gamma': [0.5, 2, 5],\n",
    "#         'features__transformer_weights': (\n",
    "#             {'text_pipeline': 1, 'starting_verb': 0.5,'starting_noun': 0.5},\n",
    "#             {'text_pipeline': 0.5, 'starting_verb': 1,'starting_noun': 0.5},\n",
    "#             {'text_pipeline': 1, 'starting_verb': 0.5,'starting_noun': 1},\n",
    "#             {'text_pipeline': 0.8, 'starting_verb': 1,'starting_noun': 0.5},\n",
    "#         )\n",
    "    }\n",
    "\n",
    "cv = GridSearchCV(boost_pipeline, param_grid=parameters,cv = 5)\n"
   ]
  },
  {
   "cell_type": "code",
   "execution_count": null,
   "metadata": {},
   "outputs": [],
   "source": [
    "%%time\n",
    "cv.fit(X_train, y_train)"
   ]
  },
  {
   "cell_type": "code",
   "execution_count": null,
   "metadata": {},
   "outputs": [],
   "source": [
    "# predict on test data\n",
    "y_pred_final = cv.predict(X_test)\n",
    "\n",
    "# display results\n",
    "display_results(y_test, y_pred_final)"
   ]
  },
  {
   "cell_type": "markdown",
   "metadata": {},
   "source": [
    "### 7. Test your model\n",
    "Show the accuracy, precision, and recall of the tuned model.  \n",
    "\n",
    "Since this project focuses on code quality, process, and  pipelines, there is no minimum performance metric needed to pass. However, make sure to fine tune your models for accuracy, precision and recall to make your project stand out - especially for your portfolio!"
   ]
  },
  {
   "cell_type": "code",
   "execution_count": null,
   "metadata": {},
   "outputs": [],
   "source": [
    "print(classification_report(y_test.values, y_pred_final, target_names=Y.columns.values))"
   ]
  },
  {
   "cell_type": "markdown",
   "metadata": {},
   "source": []
  },
  {
   "cell_type": "code",
   "execution_count": null,
   "metadata": {},
   "outputs": [],
   "source": []
  },
  {
   "cell_type": "markdown",
   "metadata": {},
   "source": [
    "### 9. Export your model as a pickle file"
   ]
  },
  {
   "cell_type": "code",
   "execution_count": null,
   "metadata": {},
   "outputs": [],
   "source": [
    "import pickle\n",
    "\n",
    "pickle.dump(cv, open('models/classifier.pkl', 'wb'))"
   ]
  },
  {
   "cell_type": "markdown",
   "metadata": {},
   "source": [
    "### 10. Use this notebook to complete `train.py`\n",
    "Use the template file attached in the Resources folder to write a script that runs the steps above to create a database and export a model based on a new dataset specified by the user."
   ]
  },
  {
   "cell_type": "code",
   "execution_count": null,
   "metadata": {},
   "outputs": [],
   "source": []
  }
 ],
 "metadata": {
  "kernelspec": {
   "display_name": "Python 3",
   "language": "python",
   "name": "python3"
  },
  "language_info": {
   "codemirror_mode": {
    "name": "ipython",
    "version": 3
   },
   "file_extension": ".py",
   "mimetype": "text/x-python",
   "name": "python",
   "nbconvert_exporter": "python",
   "pygments_lexer": "ipython3",
   "version": "3.7.4"
  }
 },
 "nbformat": 4,
 "nbformat_minor": 2
}
